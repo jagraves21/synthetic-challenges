{
 "cells": [
  {
   "cell_type": "markdown",
   "id": "a243bcbf",
   "metadata": {},
   "source": [
    "# Imports"
   ]
  },
  {
   "cell_type": "code",
   "execution_count": 1,
   "id": "778d37df",
   "metadata": {},
   "outputs": [],
   "source": [
    "import sys\n",
    "\n",
    "sys.path.append(\"../../src\")\n",
    "import datasets"
   ]
  },
  {
   "cell_type": "markdown",
   "id": "972c1e69",
   "metadata": {},
   "source": [
    "# Dowload Dataset"
   ]
  },
  {
   "cell_type": "code",
   "execution_count": 2,
   "id": "7340098d",
   "metadata": {},
   "outputs": [
    {
     "name": "stderr",
     "output_type": "stream",
     "text": [
      "2025-10-25 15:02:27,987 - INFO - Generating synthetic data...\n",
      "2025-10-25 15:02:28,641 - INFO - Saved DataFrame to processed directory: /Users/jagraves21/notebooks/n-beats/challenge/data/BitMix/raw/training.csv\n",
      "2025-10-25 15:02:28,653 - INFO - Saved DataFrame to processed directory: /Users/jagraves21/notebooks/n-beats/challenge/data/BitMix/raw/is_testing.csv\n",
      "2025-10-25 15:02:28,663 - INFO - Saved DataFrame to processed directory: /Users/jagraves21/notebooks/n-beats/challenge/data/BitMix/raw/oos_testing.csv\n"
     ]
    }
   ],
   "source": [
    "bit_mix = datasets.bit_mix\n",
    "bit_mix.generate_dataset()"
   ]
  },
  {
   "cell_type": "markdown",
   "id": "0248dc7e",
   "metadata": {},
   "source": [
    "# Display Content"
   ]
  },
  {
   "cell_type": "markdown",
   "id": "eed4e92f",
   "metadata": {},
   "source": [
    "## Downloaded Content"
   ]
  },
  {
   "cell_type": "code",
   "execution_count": 3,
   "id": "47379da1",
   "metadata": {},
   "outputs": [
    {
     "name": "stdout",
     "output_type": "stream",
     "text": [
      "raw\n",
      "├── is_testing.csv\n",
      "├── oos_testing.csv\n",
      "└── training.csv\n"
     ]
    }
   ],
   "source": [
    "datasets.path_utils.print_tree(bit_mix.get_raw_dir())"
   ]
  },
  {
   "cell_type": "markdown",
   "id": "dcd55a9c",
   "metadata": {},
   "source": [
    "## All Dataset Content"
   ]
  },
  {
   "cell_type": "code",
   "execution_count": 4,
   "id": "09cfc249",
   "metadata": {},
   "outputs": [
    {
     "name": "stdout",
     "output_type": "stream",
     "text": [
      "BitMix\n",
      "└── raw\n",
      "    ├── is_testing.csv\n",
      "    ├── oos_testing.csv\n",
      "    └── training.csv\n"
     ]
    }
   ],
   "source": [
    "datasets.path_utils.print_tree(bit_mix.get_dataset_dir())"
   ]
  }
 ],
 "metadata": {
  "kernelspec": {
   "display_name": "Python 3 (ipykernel)",
   "language": "python",
   "name": "python3"
  },
  "language_info": {
   "codemirror_mode": {
    "name": "ipython",
    "version": 3
   },
   "file_extension": ".py",
   "mimetype": "text/x-python",
   "name": "python",
   "nbconvert_exporter": "python",
   "pygments_lexer": "ipython3",
   "version": "3.11.7"
  }
 },
 "nbformat": 4,
 "nbformat_minor": 5
}
